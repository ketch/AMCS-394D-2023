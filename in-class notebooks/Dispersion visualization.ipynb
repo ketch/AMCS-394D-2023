{
 "cells": [
  {
   "cell_type": "code",
   "execution_count": null,
   "id": "f724221c",
   "metadata": {},
   "outputs": [],
   "source": [
    "%matplotlib inline\n",
    "import numpy as np\n",
    "import matplotlib.pyplot as plt\n",
    "import matplotlib\n",
    "from matplotlib import animation\n",
    "from IPython.display import HTML\n",
    "ifft = np.fft.ifft"
   ]
  },
  {
   "cell_type": "code",
   "execution_count": null,
   "id": "e4678d55",
   "metadata": {},
   "outputs": [],
   "source": [
    "# Spatial grid\n",
    "m=64                            # Number of grid points in space\n",
    "L = 2 * np.pi                   # Width of spatial domain\n",
    "x = np.arange(-m/2,m/2)*(L/m)   # Grid points\n",
    "dx = x[1]-x[0]                  # Grid spacing\n",
    "\n",
    "# Temporal grid\n",
    "tmax = 10.0     # Final time\n",
    "N = 25       # number grid points in time\n",
    "k = tmax/N   # interval between output times\n",
    "xi = np.fft.fftfreq(m)*m*2*np.pi/L  # Wavenumber \"grid\"\n",
    "\n",
    "# Initial data\n",
    "#u = np.sin(2*x)**2 * (x<-L/4)\n",
    "u = np.exp(-4*x**2)\n",
    "uhat0 = np.fft.fft(u)\n",
    "plt.plot(x,u);"
   ]
  },
  {
   "cell_type": "markdown",
   "id": "1f40a22c",
   "metadata": {},
   "source": [
    "# Pure dispersion"
   ]
  },
  {
   "cell_type": "code",
   "execution_count": null,
   "id": "2581f36d",
   "metadata": {},
   "outputs": [],
   "source": [
    "epsilon=0.01  # Diffusion coefficient\n",
    "\n",
    "# Store solutions in a list for plotting later\n",
    "frames = [u.copy()]\n",
    "fframes = [uhat0]\n",
    "\n",
    "# Now we solve the problem\n",
    "for n in range(1,N+1):\n",
    "    t = n*k\n",
    "    uhat = np.exp((1j*epsilon*xi**3)*t) * uhat0\n",
    "    u = np.real(np.fft.ifft(uhat))\n",
    "    frames.append(u.copy())\n",
    "    fframes.append(uhat)"
   ]
  },
  {
   "cell_type": "code",
   "execution_count": null,
   "id": "6787cbdb",
   "metadata": {},
   "outputs": [],
   "source": [
    "fig, axes = plt.subplots(2,1,figsize=(12,8))\n",
    "uline, = axes[1].plot([],[],'-k',lw=3)\n",
    "uhline1, = axes[0].plot([],[],lw=3)\n",
    "uhline2, = axes[0].plot([],[],lw=3)\n",
    "uhline3, = axes[0].plot([],[],lw=3)\n",
    "axes[0].set_xlim((x[0],x[-1])); axes[0].set_ylim((-0.2,1.2))\n",
    "axes[1].set_xlim((x[0],x[-1])); axes[1].set_ylim((-0.5,1.))\n",
    "plt.close()\n",
    "\n",
    "freq1 = np.zeros_like(uhat0)\n",
    "freq2 = np.zeros_like(uhat0)\n",
    "freq3 = np.zeros_like(uhat0)\n",
    "i1 = 1\n",
    "i2 = 3\n",
    "i3 = 5\n",
    "\n",
    "def plot_frame(i):\n",
    "    uline.set_data(x,frames[i])\n",
    "    freq1[i1] = fframes[i][i1]\n",
    "    uhline1.set_data(x,np.real(ifft(freq1)))\n",
    "    freq2[i2] = fframes[i][i2]\n",
    "    uhline2.set_data(x,np.real(ifft(freq2))+0.4)\n",
    "    freq3[i3] = fframes[i][i3]\n",
    "    uhline3.set_data(x,np.real(ifft(freq3))+0.8)\n",
    "    axes[0].set_title('t='+str(i*k))\n",
    "    fig.canvas.draw()\n",
    "    return fig\n",
    "\n",
    "# Animate the solution\n",
    "anim = matplotlib.animation.FuncAnimation(fig, plot_frame,\n",
    "                                   frames=len(frames),\n",
    "                                   interval=200,\n",
    "                                   repeat=False)\n",
    "\n",
    "HTML(anim.to_jshtml())"
   ]
  },
  {
   "cell_type": "markdown",
   "id": "8947599a",
   "metadata": {},
   "source": [
    "# Advection-dispersion"
   ]
  },
  {
   "cell_type": "code",
   "execution_count": null,
   "id": "f1937eec",
   "metadata": {},
   "outputs": [],
   "source": [
    "epsilon=0.01  # Diffusion coefficient\n",
    "a = 0.2 # Advection coefficient\n",
    "u = np.exp(-4*x**2)\n",
    "\n",
    "# Store solutions in a list for plotting later\n",
    "frames = [u.copy()]\n",
    "fframes = [uhat0]\n",
    "\n",
    "# Now we solve the problem\n",
    "for n in range(1,N+1):\n",
    "    t = n*k\n",
    "    uhat = np.exp((-1j*a*xi+1j*epsilon*xi**3)*t) * uhat0\n",
    "    u = np.real(np.fft.ifft(uhat))\n",
    "    frames.append(u.copy())\n",
    "    fframes.append(uhat)"
   ]
  },
  {
   "cell_type": "code",
   "execution_count": null,
   "id": "d471df3a",
   "metadata": {},
   "outputs": [],
   "source": [
    "fig, axes = plt.subplots(2,1,figsize=(12,8))\n",
    "uline, = axes[1].plot([],[],'-k',lw=3)\n",
    "uhline1, = axes[0].plot([],[],lw=3)\n",
    "uhline2, = axes[0].plot([],[],lw=3)\n",
    "uhline3, = axes[0].plot([],[],lw=3)\n",
    "axes[0].set_xlim((x[0],x[-1])); axes[0].set_ylim((-0.2,1.2))\n",
    "axes[1].set_xlim((x[0],x[-1])); axes[1].set_ylim((-0.5,1.))\n",
    "plt.close()\n",
    "\n",
    "freq1 = np.zeros_like(uhat0)\n",
    "freq2 = np.zeros_like(uhat0)\n",
    "freq3 = np.zeros_like(uhat0)\n",
    "i1 = 1\n",
    "i2 = 3\n",
    "i3 = 5\n",
    "\n",
    "def plot_frame(i):\n",
    "    uline.set_data(x,frames[i])\n",
    "    freq1[i1] = fframes[i][i1]\n",
    "    uhline1.set_data(x,np.real(ifft(freq1)))\n",
    "    freq2[i2] = fframes[i][i2]\n",
    "    uhline2.set_data(x,np.real(ifft(freq2))+0.4)\n",
    "    freq3[i3] = fframes[i][i3]\n",
    "    uhline3.set_data(x,np.real(ifft(freq3))+0.8)\n",
    "    axes[0].set_title('t='+str(i*k))\n",
    "    fig.canvas.draw()\n",
    "    return fig\n",
    "\n",
    "# Animate the solution\n",
    "anim = matplotlib.animation.FuncAnimation(fig, plot_frame,\n",
    "                                   frames=len(frames),\n",
    "                                   interval=200,\n",
    "                                   repeat=False)\n",
    "\n",
    "HTML(anim.to_jshtml())"
   ]
  },
  {
   "cell_type": "code",
   "execution_count": null,
   "id": "42fb8048",
   "metadata": {},
   "outputs": [],
   "source": []
  }
 ],
 "metadata": {
  "kernelspec": {
   "display_name": "Python 3 (ipykernel)",
   "language": "python",
   "name": "python3"
  },
  "language_info": {
   "codemirror_mode": {
    "name": "ipython",
    "version": 3
   },
   "file_extension": ".py",
   "mimetype": "text/x-python",
   "name": "python",
   "nbconvert_exporter": "python",
   "pygments_lexer": "ipython3",
   "version": "3.10.4"
  }
 },
 "nbformat": 4,
 "nbformat_minor": 5
}
