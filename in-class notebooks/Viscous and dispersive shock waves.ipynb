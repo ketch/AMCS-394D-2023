{
 "cells": [
  {
   "cell_type": "markdown",
   "id": "b4d12f60",
   "metadata": {},
   "source": [
    "In this notebook we numerically examine the formation of a viscous or dispersive shock wave from an initial step function.  These are solutions of Burgers equation\n",
    "\n",
    "$$\n",
    "    u_t + u u_x = \\epsilon u_{xx}\n",
    "$$\n",
    "\n",
    "and the Korteweg-de Vries equation\n",
    "\n",
    "$$\n",
    "    u_t + u u_x = \\epsilon u_{xxx}\n",
    "$$\n",
    "\n",
    "respectively.  We use a Fourier pseudospectral method in space and 3rd-order Runge-Kutta in time.\n",
    "\n",
    "The illustration of the dispersive shock is not very good, for two reasons.  First, because the solution is highly oscillatory, we would need a much larger number of modes to represent it with high accuracy.  Second, because of the periodic boundary condition, a second dispersive shock forms at the boundary."
   ]
  },
  {
   "cell_type": "code",
   "execution_count": null,
   "id": "2e1389ae",
   "metadata": {},
   "outputs": [],
   "source": [
    "import numpy as np\n",
    "import matplotlib\n",
    "import matplotlib.pyplot as plt\n",
    "import matplotlib.animation\n",
    "from IPython.display import HTML\n",
    "font = {'size'   : 15}\n",
    "matplotlib.rc('font', **font)"
   ]
  },
  {
   "cell_type": "code",
   "execution_count": null,
   "id": "d27142f8",
   "metadata": {},
   "outputs": [],
   "source": [
    "def rk3(u,xi,rhs):\n",
    "    y2 = u + dt*rhs(u,xi)\n",
    "    y3 = 0.75*u + 0.25*(y2 + dt*rhs(y2,xi))\n",
    "    u_new = 1./3 * u + 2./3 * (y3 + dt*rhs(y3,xi))\n",
    "    return u_new"
   ]
  },
  {
   "cell_type": "code",
   "execution_count": null,
   "id": "7fd807f0",
   "metadata": {},
   "outputs": [],
   "source": [
    "equation = 'Burgers'   # Change this line to determine which kind of shock is simulated\n",
    "def rhs(u, xi):\n",
    "    eps = 0.02\n",
    "    uhat = np.fft.fft(u)\n",
    "    if equation == 'Burgers': \n",
    "        return -u*np.real(np.fft.ifft(1j*xi*uhat)) + eps*np.real(np.fft.ifft(-xi**2*uhat))\n",
    "    elif equation == 'KdV':\n",
    "        return -u*np.real(np.fft.ifft(1j*xi*uhat)) - eps*np.real(np.fft.ifft(-1j*xi**3*uhat))"
   ]
  },
  {
   "cell_type": "code",
   "execution_count": null,
   "id": "0d746574",
   "metadata": {},
   "outputs": [],
   "source": [
    "# Grid\n",
    "m = 512\n",
    "L = 2*np.pi\n",
    "x = np.arange(-m/2,m/2)*(L/m)\n",
    "xi = np.fft.fftfreq(m)*m*2*np.pi/L\n",
    "\n",
    "if equation == 'KdV':\n",
    "    dt = 1.73/((m/2)**3)\n",
    "    tmax = 0.005\n",
    "\n",
    "elif equation == 'Burgers':\n",
    "    dt = 1.73/((m/2)**2)\n",
    "    tmax = 2.5\n",
    "\n",
    "#u = 1*(x<0)\n",
    "u = -0.5*np.tanh(100*x)+0.5\n",
    "\n",
    "uhat2 = np.abs(np.fft.fft(u))\n",
    "\n",
    "num_plots = 50\n",
    "nplt = np.floor((tmax/num_plots)/dt)\n",
    "nmax = int(round(tmax/dt))\n",
    "\n",
    "fig = plt.figure(figsize=(12,8))\n",
    "axes = fig.add_subplot(111)\n",
    "line, = axes.plot(x,u,lw=3)\n",
    "axes.set_xlabel(r'$x$',fontsize=30)\n",
    "plt.tight_layout()\n",
    "plt.close()\n",
    "\n",
    "frames = [u.copy()]\n",
    "tt = [0]\n",
    "uuhat = [uhat2]\n",
    "\n",
    "for n in range(1,nmax+1):\n",
    "    u_new = rk3(u,xi,rhs)\n",
    "\n",
    "    u = u_new.copy()\n",
    "    t = n*dt\n",
    "    # Plotting\n",
    "    if np.mod(n,nplt) == 0:\n",
    "        frames.append(u.copy())\n",
    "        tt.append(t)\n",
    "        uhat2 = np.abs(np.fft.fft(u))\n",
    "        uuhat.append(uhat2)\n",
    "        \n",
    "def plot_frame(i):\n",
    "    line.set_data(x,frames[i])\n",
    "    power_spectrum = np.abs(uuhat[i])**2\n",
    "    axes.set_title('t= %.2e' % tt[i])\n",
    "    axes.set_xlim((-np.pi,np.pi))\n",
    "    axes.set_ylim((-1,2))\n",
    "    \n",
    "anim = matplotlib.animation.FuncAnimation(fig, plot_frame,\n",
    "                                   frames=len(frames), interval=100)\n",
    "\n",
    "HTML(anim.to_jshtml())"
   ]
  },
  {
   "cell_type": "code",
   "execution_count": null,
   "id": "bb0a21a8",
   "metadata": {},
   "outputs": [],
   "source": []
  }
 ],
 "metadata": {
  "kernelspec": {
   "display_name": "Python 3 (ipykernel)",
   "language": "python",
   "name": "python3"
  },
  "language_info": {
   "codemirror_mode": {
    "name": "ipython",
    "version": 3
   },
   "file_extension": ".py",
   "mimetype": "text/x-python",
   "name": "python",
   "nbconvert_exporter": "python",
   "pygments_lexer": "ipython3",
   "version": "3.10.4"
  }
 },
 "nbformat": 4,
 "nbformat_minor": 5
}
