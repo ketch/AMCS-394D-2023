{
 "cells": [
  {
   "cell_type": "code",
   "execution_count": null,
   "id": "b431e6e2",
   "metadata": {},
   "outputs": [],
   "source": [
    "import numpy as np\n",
    "%matplotlib inline\n",
    "import matplotlib\n",
    "import matplotlib.pyplot as plt\n",
    "import matplotlib.animation\n",
    "from IPython.display import HTML\n",
    "font = {'size'   : 15}\n",
    "matplotlib.rc('font', **font)\n",
    "\n",
    "fft = np.fft.fft\n",
    "ifft = np.fft.ifft"
   ]
  },
  {
   "cell_type": "markdown",
   "id": "65b6d1a1",
   "metadata": {},
   "source": [
    "$\\newcommand{\\fluctint}[1]{\\llbracket #1 \\rrbracket}$\n",
    "In this notebook we solve the variable-coefficient acoustics equations\n",
    "\n",
    "\\begin{align}\n",
    "p_t + K(x) u_x & = 0 \\\\\n",
    "\\rho(x) u_t + p_x & = 0\n",
    "\\end{align}\n",
    "\n",
    "where $p(x,t), u(x,t)$ are the pressure (relative to a background state) and velocity, respectively.  We consider a medium in which $K(x), \\rho(x)$ are periodic with period $\\delta=1$.\n",
    "\n",
    "We also solve the homogenized equations (from eqn. (5.17) of LeVeque & Yong, with $G(\\sigma)=1$ and $\\sigma=-p$)\n",
    "\n",
    "\\begin{align}\n",
    "    \\overline{K^{-1}} \\overline{p}_t + \\overline{u}_x & = \\delta C_1 \\overline{u}_{xx} + \\delta^2 C_{12} u_{xxx} \\\\\n",
    "    \\overline{\\rho} \\  \\overline{u}_t + \\overline{p}_x & = -\\delta C_1 \\overline{p}_{xx} + \\delta^2 C_{22} p_{xxx}\n",
    "\\end{align}\n",
    "\n",
    "where $\\overline{f}=\\int_0^1 f(x)dx$ and\n",
    "\n",
    "$$\n",
    "    C_1 = \\overline{K^{-1}[\\![\\rho]\\!]}\n",
    "$$\n",
    "\n",
    "with\n",
    "\n",
    "$$\n",
    "    [\\![f]\\!](y) = \\int_0^y\\left\\{f(\\xi)\\right\\}d\\xi  - \\int_0^1 \\int_0^\\tau \\left\\{f(\\xi)\\right\\}d\\xi d\\tau.\n",
    "$$\n",
    "where $\\left\\{f(y)\\right\\} = f(y) - \\int_0^1 f(x)dx$.\n"
   ]
  },
  {
   "cell_type": "markdown",
   "id": "17b3a5e5",
   "metadata": {},
   "source": [
    "$$\n",
    "v = \\begin{bmatrix} p \\\\ u \\end{bmatrix}\n",
    "$$"
   ]
  },
  {
   "cell_type": "markdown",
   "id": "052b0f69",
   "metadata": {},
   "source": [
    "# Solution of the variable-coefficient system"
   ]
  },
  {
   "cell_type": "markdown",
   "id": "5d09136f",
   "metadata": {},
   "source": [
    "Here we use a pseudospectral method in space and 3rd-order Runge-Kutta in time."
   ]
  },
  {
   "cell_type": "code",
   "execution_count": null,
   "id": "64d714bb",
   "metadata": {},
   "outputs": [],
   "source": [
    "def rk3(v,xi,rhs,dt):\n",
    "    y2 = v + dt*rhs(v,xi)\n",
    "    y3 = 0.75*v + 0.25*(y2 + dt*rhs(y2,xi))\n",
    "    v_new = 1./3 * v + 2./3 * (y3 + dt*rhs(y3,xi))\n",
    "    return v_new\n",
    "\n",
    "\n",
    "    \n",
    "def solve_wave_equation(m,dt):\n",
    "    L = 100\n",
    "    x = np.arange(-m/2,m/2)*(L/m)\n",
    "    xi = np.fft.fftfreq(m)*m*2*np.pi/L\n",
    "\n",
    "    p0 = np.exp(-0.36*(x+2)**2)\n",
    "    u0 = np.zeros_like(p0)\n",
    "    v = np.zeros((2,len(x)))\n",
    "    v[0,:] = p0; v[1,:] = u0\n",
    "    tmax = 168.0\n",
    "\n",
    "    K = 4 + np.sin(2*np.pi*x)\n",
    "    rho = 4 + np.sin(2*np.pi*x)\n",
    "    \n",
    "    def rhs(v, xi):\n",
    "        d = np.zeros_like(v)\n",
    "        p = v[0,:]\n",
    "        u = v[1,:]\n",
    "        d[0,:] = - K * np.real(ifft(1j*xi*fft(u)))\n",
    "        d[1,:] = -1./rho * np.real(ifft(1j*xi*fft(p)))\n",
    "        return d\n",
    "\n",
    "    num_plots = 50\n",
    "    nplt = np.floor((tmax/num_plots)/dt)\n",
    "    nmax = int(round(tmax/dt))\n",
    "\n",
    "    frames = [v.copy()]\n",
    "    tt = [0]\n",
    "    \n",
    "    for n in range(1,nmax+1):\n",
    "        v_new = rk3(v,xi,rhs,dt)\n",
    "\n",
    "        v = v_new.copy()\n",
    "        t = n*dt\n",
    "        # Plotting\n",
    "        if np.mod(n,nplt) == 0:\n",
    "            frames.append(v.copy())\n",
    "            tt.append(t)\n",
    "    return frames, x, tt, xi\n",
    "    \n",
    "\n",
    "\n",
    "def plot_solution(frames, x, tt, xi):\n",
    "    fig = plt.figure(figsize=(12,8))\n",
    "    axes = fig.add_subplot(111)\n",
    "    line, = axes.plot(x,frames[0][0,:],lw=3)\n",
    "    xi_max = np.max(np.abs(xi))\n",
    "    axes.set_xlabel(r'$x$',fontsize=30)\n",
    "    plt.close()\n",
    "\n",
    "    def plot_frame(i):\n",
    "        line.set_data(x,frames[i][0,:])\n",
    "        axes.set_title('t= %.2e' % tt[i])\n",
    "        axes.set_xlim((x[0],x[-1]))\n",
    "        axes.set_ylim((-0.1,1.1))\n",
    "\n",
    "    anim = matplotlib.animation.FuncAnimation(fig, plot_frame,\n",
    "                                              frames=len(frames), interval=100,\n",
    "                                              repeat=False)\n",
    "    return HTML(anim.to_jshtml())"
   ]
  },
  {
   "cell_type": "code",
   "execution_count": null,
   "id": "b51b6b0e",
   "metadata": {},
   "outputs": [],
   "source": [
    "m = 1024\n",
    "dt = 1.73/(m/2)\n",
    "frames, x, tt, xi = solve_wave_equation(m,dt)"
   ]
  },
  {
   "cell_type": "code",
   "execution_count": null,
   "id": "bfc65feb",
   "metadata": {},
   "outputs": [],
   "source": [
    "plot_solution(frames, x, tt, xi)"
   ]
  },
  {
   "cell_type": "markdown",
   "id": "cb0e8028",
   "metadata": {},
   "source": [
    "The solution shows the presence of significant effective dispersion, as we expect based on the homogenized equations."
   ]
  },
  {
   "cell_type": "markdown",
   "id": "bec462b5",
   "metadata": {},
   "source": [
    "Now we compute the constants $C_1, C_{12}, C_{21}$ (see LeVeque & Yong eqn. (5.18) for the formulas)."
   ]
  },
  {
   "cell_type": "code",
   "execution_count": null,
   "id": "6f4623ef",
   "metadata": {
    "code_folding": []
   },
   "outputs": [],
   "source": [
    "from scipy.integrate import quad\n",
    "\n",
    "def bracket(f):\n",
    "    # Compute the double bracket of a function\n",
    "    mean = quad(f,0,1)[0]\n",
    "    brace = lambda y: f(y)-mean\n",
    "    brack_nzm = lambda y: quad(brace,0,y)[0]\n",
    "    mean_bracket = quad(brack_nzm,0,1)[0]\n",
    "    def brack(y):\n",
    "        return brack_nzm(y) - mean_bracket\n",
    "    return brack\n",
    "\n",
    "rhof = lambda y: 4 + 1.*np.sin(2*np.pi*y)\n",
    "Kif = lambda y: 1/(4+ 1.*np.sin(2*np.pi*y))\n",
    "brho = bracket(rhof)\n",
    "kibr = lambda y: brho(y)*Kif(y)\n",
    "C1 = quad(kibr,0,1)[0]\n",
    "C1"
   ]
  },
  {
   "cell_type": "markdown",
   "id": "0fdcd521",
   "metadata": {},
   "source": [
    "We note that $C_1$ vanishes for many simple periodic functions (including sine, cosine, and piecewise-constant).  Even in cases for which it doesn't vanish, it seems to be so small that the next-order dispersive terms dominate."
   ]
  },
  {
   "cell_type": "code",
   "execution_count": null,
   "id": "24ec4ce6",
   "metadata": {},
   "outputs": [],
   "source": [
    "bKi = bracket(Kif)\n",
    "brKir = lambda y: rhof(y)*bKi(y)\n",
    "C2 = quad(brKir,0,1)[0]\n",
    "C2"
   ]
  },
  {
   "cell_type": "code",
   "execution_count": null,
   "id": "9ce84499",
   "metadata": {},
   "outputs": [],
   "source": [
    "Kim = quad(Kif,0,1)[0]\n",
    "rhom = quad(rhof,0,1)[0]\n",
    "c_hatsq = 1./(Kim*rhom)\n",
    "c_hatsq"
   ]
  },
  {
   "cell_type": "code",
   "execution_count": null,
   "id": "8e52c049",
   "metadata": {},
   "outputs": [],
   "source": [
    "C12a = lambda y: bKi(y)*brho(y)\n",
    "C12b = lambda y: brho(y)**2*Kif(y)\n",
    "C12 = quad(C12a,0,1)[0]*c_hatsq-quad(C12b,0,1)[0]*c_hatsq/rhom\n",
    "C12"
   ]
  },
  {
   "cell_type": "code",
   "execution_count": null,
   "id": "1c5c1c8d",
   "metadata": {},
   "outputs": [],
   "source": [
    "C22a = C12a\n",
    "C22b = lambda y: bKi(y)**2*rhof(y)\n",
    "C22 = quad(C22a,0,1)[0]*c_hatsq-quad(C22b,0,1)[0]*c_hatsq/Kim\n",
    "C22"
   ]
  },
  {
   "cell_type": "markdown",
   "id": "241c6cea",
   "metadata": {},
   "source": [
    "Now we solve the homogenized equations in Fourier space.  Unfortunately, the dispersion relation of the truncated homogenized equations when we keep up to $O(\\delta^2)$ terms has the feature that, for large enough wavenumbers, the frequency becomes complex and this means there are exponentially-growing modes.  For this reason, we cannot go to extremely long times in the solution below."
   ]
  },
  {
   "cell_type": "code",
   "execution_count": null,
   "id": "b171c419",
   "metadata": {},
   "outputs": [],
   "source": [
    "L = 100\n",
    "x = np.arange(-m/2,m/2)*(L/m)\n",
    "xi = np.fft.fftfreq(m)*m*2*np.pi/L\n",
    "\n",
    "p0 = np.exp(-0.36*(x+2)**2)\n",
    "u0 = np.zeros_like(p0)\n",
    "    \n",
    "# Exact solution\n",
    "alpha = C1\n",
    "delta = 1.\n",
    "a = -xi/Kim*(1j+delta*alpha*c_hatsq*xi) - 1j*delta**2*C12*xi**3/Kim + 1.e-16\n",
    "b = -xi/rhom*(1j-delta*alpha*c_hatsq*xi) - 1j*delta**2*C22*xi**3/rhom + 1.e-16\n",
    "p0hat = fft(p0)\n",
    "u0hat = fft(u0)\n",
    "t = 168\n",
    "phat = np.cosh(t*np.sqrt(a*b))*p0hat + np.sqrt(a/b)*np.sinh(t*np.sqrt(a*b)*u0hat)\n",
    "p = np.real(ifft(phat))\n",
    "plt.figure(figsize=(12,12))\n",
    "plt.plot(x,p)\n",
    "plt.plot(x,frames[-1][0,:]);\n",
    "plt.legend(['Homogenized equations','Variable-coefficient equations'])"
   ]
  },
  {
   "cell_type": "markdown",
   "id": "a49cfdc6",
   "metadata": {},
   "source": [
    "We see relatively good agreement, with a couple of caveats:\n",
    "1. The smaller trailing oscillations are not captured by the homogenized equations.  In order to capture them, we should include more terms.\n",
    "2.  The homogenized solution has a high-frequency oscillation throughout the domain.  This is due to the exponentially-growing modes that blow up a short time after this.  To avoid this, we should truncate the homogenized equations at an odd power of $delta$ (at least, I think this will avoid the problem)."
   ]
  },
  {
   "cell_type": "markdown",
   "id": "6f84b979",
   "metadata": {},
   "source": [
    "Below you can see that the solution blows up later."
   ]
  },
  {
   "cell_type": "code",
   "execution_count": null,
   "id": "28d73209",
   "metadata": {},
   "outputs": [],
   "source": [
    "L = 100\n",
    "x = np.arange(-m/2,m/2)*(L/m)\n",
    "xi = np.fft.fftfreq(m)*m*2*np.pi/L\n",
    "\n",
    "p0 = np.exp(-0.36*(x+2)**2)\n",
    "u0 = np.zeros_like(p0)\n",
    "    \n",
    "# Exact solution\n",
    "alpha = C1\n",
    "delta = 1.\n",
    "a = -xi/Kim*(1j+delta*alpha*c_hatsq*xi) - 1j*delta**2*C12*xi**3/Kim + 1.e-16\n",
    "b = -xi/rhom*(1j-delta*alpha*c_hatsq*xi) - 1j*delta**2*C22*xi**3/rhom + 1.e-16\n",
    "p0hat = fft(p0)\n",
    "u0hat = fft(u0)\n",
    "t = 300\n",
    "phat = np.cosh(t*np.sqrt(a*b))*p0hat + np.sqrt(a/b)*np.sinh(t*np.sqrt(a*b)*u0hat)\n",
    "p = np.real(ifft(phat))\n",
    "plt.figure(figsize=(12,12))\n",
    "plt.plot(x,p)"
   ]
  },
  {
   "cell_type": "code",
   "execution_count": null,
   "id": "7f70175c",
   "metadata": {},
   "outputs": [],
   "source": []
  }
 ],
 "metadata": {
  "kernelspec": {
   "display_name": "Python 3 (ipykernel)",
   "language": "python",
   "name": "python3"
  },
  "language_info": {
   "codemirror_mode": {
    "name": "ipython",
    "version": 3
   },
   "file_extension": ".py",
   "mimetype": "text/x-python",
   "name": "python",
   "nbconvert_exporter": "python",
   "pygments_lexer": "ipython3",
   "version": "3.10.4"
  }
 },
 "nbformat": 4,
 "nbformat_minor": 5
}
