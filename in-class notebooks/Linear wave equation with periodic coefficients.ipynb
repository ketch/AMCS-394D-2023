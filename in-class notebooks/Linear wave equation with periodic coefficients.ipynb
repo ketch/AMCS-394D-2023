{
 "cells": [
  {
   "cell_type": "code",
   "execution_count": null,
   "id": "b431e6e2",
   "metadata": {},
   "outputs": [],
   "source": [
    "import numpy as np\n",
    "%matplotlib inline\n",
    "import matplotlib\n",
    "import matplotlib.pyplot as plt\n",
    "import matplotlib.animation\n",
    "from IPython.display import HTML\n",
    "font = {'size'   : 15}\n",
    "matplotlib.rc('font', **font)\n",
    "\n",
    "fft = np.fft.fft\n",
    "ifft = np.fft.ifft"
   ]
  },
  {
   "cell_type": "markdown",
   "id": "17b3a5e5",
   "metadata": {},
   "source": [
    "$$\n",
    "v = \\begin{bmatrix} p \\\\ u \\end{bmatrix}\n",
    "$$"
   ]
  },
  {
   "cell_type": "code",
   "execution_count": null,
   "id": "64d714bb",
   "metadata": {},
   "outputs": [],
   "source": [
    "def rk3(v,xi,rhs,dt):\n",
    "    y2 = v + dt*rhs(v,xi)\n",
    "    y3 = 0.75*v + 0.25*(y2 + dt*rhs(y2,xi))\n",
    "    v_new = 1./3 * v + 2./3 * (y3 + dt*rhs(y3,xi))\n",
    "    return v_new\n",
    "\n",
    "\n",
    "    \n",
    "def solve_wave_equation(m,dt):\n",
    "    L = 100*np.pi\n",
    "    x = np.arange(-m/2,m/2)*(L/m)\n",
    "    xi = np.fft.fftfreq(m)*m*2*np.pi/L\n",
    "\n",
    "    p0 = np.exp(-0.01*(x+2)**2)\n",
    "    u0 = np.zeros_like(p0)\n",
    "    v = np.zeros((2,len(x)))\n",
    "    v[0,:] = p0; v[1,:] = u0\n",
    "    tmax = 600.0\n",
    "\n",
    "    K = 4 + np.sin(x)\n",
    "    rho = 4 + np.sin(x)\n",
    "    \n",
    "    def rhs(v, xi):\n",
    "        d = np.zeros_like(v)\n",
    "        p = v[0,:]\n",
    "        u = v[1,:]\n",
    "        d[0,:] = - K * np.real(ifft(1j*xi*fft(u)))\n",
    "        d[1,:] = -1./rho * np.real(ifft(1j*xi*fft(p)))\n",
    "        return d\n",
    "\n",
    "    num_plots = 50\n",
    "    nplt = np.floor((tmax/num_plots)/dt)\n",
    "    nmax = int(round(tmax/dt))\n",
    "\n",
    "    frames = [v.copy()]\n",
    "    tt = [0]\n",
    "    \n",
    "    for n in range(1,nmax+1):\n",
    "        v_new = rk3(v,xi,rhs,dt)\n",
    "\n",
    "        v = v_new.copy()\n",
    "        t = n*dt\n",
    "        # Plotting\n",
    "        if np.mod(n,nplt) == 0:\n",
    "            frames.append(v.copy())\n",
    "            tt.append(t)\n",
    "    return frames, x, tt, xi\n",
    "    \n",
    "\n",
    "\n",
    "def plot_solution(frames, x, tt, xi):\n",
    "    fig = plt.figure(figsize=(12,8))\n",
    "    axes = fig.add_subplot(111)\n",
    "    line, = axes.plot(x,frames[0][0,:],lw=3)\n",
    "    xi_max = np.max(np.abs(xi))\n",
    "    axes.set_xlabel(r'$x$',fontsize=30)\n",
    "    plt.close()\n",
    "\n",
    "    def plot_frame(i):\n",
    "        line.set_data(x,frames[i][0,:])\n",
    "        axes.set_title('t= %.2e' % tt[i])\n",
    "        axes.set_xlim((x[0],x[-1]))\n",
    "        axes.set_ylim((-0.1,1.1))\n",
    "\n",
    "    anim = matplotlib.animation.FuncAnimation(fig, plot_frame,\n",
    "                                              frames=len(frames), interval=100,\n",
    "                                              repeat=False)\n",
    "    return HTML(anim.to_jshtml())"
   ]
  },
  {
   "cell_type": "code",
   "execution_count": null,
   "id": "b51b6b0e",
   "metadata": {},
   "outputs": [],
   "source": [
    "m = 512\n",
    "dt = 1.73/(m/2)\n",
    "frames, x, tt, xi = solve_wave_equation(m,dt)"
   ]
  },
  {
   "cell_type": "code",
   "execution_count": null,
   "id": "33077f2c",
   "metadata": {
    "scrolled": false
   },
   "outputs": [],
   "source": [
    "plot_solution(frames, x, tt, xi)"
   ]
  }
 ],
 "metadata": {
  "kernelspec": {
   "display_name": "Python 3 (ipykernel)",
   "language": "python",
   "name": "python3"
  },
  "language_info": {
   "codemirror_mode": {
    "name": "ipython",
    "version": 3
   },
   "file_extension": ".py",
   "mimetype": "text/x-python",
   "name": "python",
   "nbconvert_exporter": "python",
   "pygments_lexer": "ipython3",
   "version": "3.10.4"
  }
 },
 "nbformat": 4,
 "nbformat_minor": 5
}
