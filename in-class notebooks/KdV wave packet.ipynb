{
 "cells": [
  {
   "cell_type": "code",
   "execution_count": null,
   "id": "09fb3237",
   "metadata": {},
   "outputs": [],
   "source": [
    "import numpy as np\n",
    "%matplotlib inline\n",
    "import matplotlib\n",
    "import matplotlib.pyplot as plt\n",
    "import matplotlib.animation\n",
    "from IPython.display import HTML\n",
    "font = {'size'   : 15}\n",
    "matplotlib.rc('font', **font)"
   ]
  },
  {
   "cell_type": "markdown",
   "id": "315ed744",
   "metadata": {},
   "source": [
    "In this notebook we solve the KdV equation\n",
    "\n",
    "$$\n",
    "    u_t = uu_x + u_{xxx}\n",
    "$$\n",
    "\n",
    "with a wavepacket initial condition."
   ]
  },
  {
   "cell_type": "code",
   "execution_count": null,
   "id": "c96f7868",
   "metadata": {},
   "outputs": [],
   "source": [
    "def rk3(u,xi,rhs,dt,epsilon=1.0,linear=False):\n",
    "    y2 = u + dt*rhs(u,xi,epsilon=epsilon, linear=linear)\n",
    "    y3 = 0.75*u + 0.25*(y2 + dt*rhs(y2,xi,epsilon=epsilon, linear=linear))\n",
    "    u_new = 1./3 * u + 2./3 * (y3 + dt*rhs(y3,xi,epsilon=epsilon, linear=linear))\n",
    "    return u_new\n",
    "\n",
    "\n",
    "def rhs(u, xi, epsilon=1.0, linear=False):\n",
    "    uhat = np.fft.fft(u)\n",
    "    if linear:\n",
    "        return epsilon*np.real(np.fft.ifft(-1j*xi**3*uhat))\n",
    "    else:\n",
    "        return u*np.real(np.fft.ifft(1j*xi*uhat)) + epsilon*np.real(np.fft.ifft(-1j*xi**3*uhat))\n",
    "    \n",
    "def solve_KdV(u0,tmax=1.,m=256,epsilon=1.0, ylims=(-100,300), linear=False):\n",
    "    \"\"\"Solve the KdV equation using Fourier spectral collocation in space\n",
    "       and SSPRK3 in time, on the domain (-pi, pi).  The input u0 should be a function.\n",
    "    \"\"\"\n",
    "    # Grid\n",
    "    L = 2*np.pi\n",
    "    x = np.arange(-m/2,m/2)*(L/m)\n",
    "    xi = np.fft.fftfreq(m)*m*2*np.pi/L\n",
    "\n",
    "    dt = 1.73/((m/2)**3)\n",
    "    u = u0(x)\n",
    "    uhat2 = np.abs(np.fft.fft(u))\n",
    "\n",
    "    num_plots = 400\n",
    "    nplt = np.floor((tmax/num_plots)/dt)\n",
    "    nmax = int(round(tmax/dt))\n",
    "\n",
    "    fig = plt.figure(figsize=(12,8))\n",
    "    axes = fig.add_subplot(211)\n",
    "    axes2 = fig.add_subplot(212)\n",
    "    line, = axes.plot(x,u,lw=3)\n",
    "    line2, = axes2.semilogy(xi,uhat2**2)\n",
    "    xi_max = np.max(np.abs(xi))\n",
    "    axes.set_xlabel(r'$x$',fontsize=30)\n",
    "    axes2.set_xlabel(r'$\\xi$',fontsize=30)\n",
    "    plt.tight_layout()\n",
    "    plt.close()\n",
    "    \n",
    "    frames = [u.copy()]\n",
    "    tt = [0]\n",
    "    uuhat = [uhat2]\n",
    "\n",
    "    for n in range(1,nmax+1):\n",
    "        u_new = rk3(u,xi,rhs,dt,linear=linear)\n",
    "\n",
    "        u = u_new.copy()\n",
    "        t = n*dt\n",
    "        # Plotting\n",
    "        if np.mod(n,nplt) == 0:\n",
    "            frames.append(u.copy())\n",
    "            tt.append(t)\n",
    "            uhat2 = np.abs(np.fft.fft(u))\n",
    "            uuhat.append(uhat2)\n",
    "            \n",
    "    def plot_frame(i):\n",
    "        line.set_data(x,frames[i])\n",
    "        power_spectrum = np.abs(uuhat[i])**2\n",
    "        line2.set_data(np.sort(xi),power_spectrum[np.argsort(xi)])\n",
    "        axes.set_title('t= %.2e' % tt[i])\n",
    "        axes.set_xlim((-np.pi,np.pi))\n",
    "        axes.set_ylim(ylims)\n",
    "\n",
    "    anim = matplotlib.animation.FuncAnimation(fig, plot_frame,\n",
    "                                       frames=len(frames), interval=100)\n",
    "\n",
    "    return HTML(anim.to_jshtml())"
   ]
  },
  {
   "cell_type": "markdown",
   "id": "12f321ce",
   "metadata": {},
   "source": [
    "## Linear KdV solution\n",
    "By looking at the motion of individual peaks versus the envelope, you can see the difference between the phase velocity $k_0^2$ and the group velocity $3k_0^2$.\n",
    "\n",
    "The lower plot shows the power spectrum of the solution.  Note that for the linearized KdV equation (as for any linear wave equation), the power spectrum is constant in time."
   ]
  },
  {
   "cell_type": "code",
   "execution_count": null,
   "id": "da0ecd18",
   "metadata": {},
   "outputs": [],
   "source": [
    "def u0(x):\n",
    "    return np.cos(80*x) * np.exp(-10*x**2)\n",
    "solve_KdV(u0, m=512, tmax=0.00005, ylims=(-1,1), linear=True)"
   ]
  },
  {
   "cell_type": "markdown",
   "id": "7840a3cd",
   "metadata": {},
   "source": [
    "Next we consider the nonlinear KdV equation.  The idea here is that the envelope of the wavepacket should approximately obey the NLS equation, but I haven't finished developing this."
   ]
  },
  {
   "cell_type": "code",
   "execution_count": null,
   "id": "7f44b079",
   "metadata": {},
   "outputs": [],
   "source": [
    "def u0(x):\n",
    "    return 1000*np.cos(80*x) * np.exp(-10*x**2)\n",
    "solve_KdV(u0, m=512, tmax=0.0005, ylims=(-1000,1000), epsilon=0.01)"
   ]
  },
  {
   "cell_type": "code",
   "execution_count": null,
   "id": "c411443c",
   "metadata": {},
   "outputs": [],
   "source": [
    "def u0(x):\n",
    "    return 1000*np.cos(80*x) * np.exp(-10*x**2)\n",
    "solve_KdV(u0, m=1024, tmax=0.0005, ylims=(-1000,1000))"
   ]
  },
  {
   "cell_type": "code",
   "execution_count": null,
   "id": "85086606",
   "metadata": {},
   "outputs": [],
   "source": []
  }
 ],
 "metadata": {
  "kernelspec": {
   "display_name": "Python 3 (ipykernel)",
   "language": "python",
   "name": "python3"
  },
  "language_info": {
   "codemirror_mode": {
    "name": "ipython",
    "version": 3
   },
   "file_extension": ".py",
   "mimetype": "text/x-python",
   "name": "python",
   "nbconvert_exporter": "python",
   "pygments_lexer": "ipython3",
   "version": "3.10.4"
  }
 },
 "nbformat": 4,
 "nbformat_minor": 5
}
