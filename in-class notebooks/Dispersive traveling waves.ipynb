{
 "cells": [
  {
   "cell_type": "code",
   "execution_count": null,
   "id": "bbd6f5be",
   "metadata": {},
   "outputs": [],
   "source": [
    "import numpy as np\n",
    "import matplotlib.pyplot as plt\n",
    "import scipy.integrate\n",
    "from ipywidgets import interact, FloatSlider\n",
    "import matplotlib\n",
    "font = {'size'   : 15}\n",
    "matplotlib.rc('font', **font)"
   ]
  },
  {
   "cell_type": "markdown",
   "id": "3191e595",
   "metadata": {},
   "source": [
    "In this notebook, we look for traveling wave solutions of the KdV equation\n",
    "\n",
    "$$\n",
    "  u_t + uu_x + u_{xxx} = 0.\n",
    "$$\n",
    "\n",
    "Assuming $u(x,t) = u(x-ct)$ leads to a 3rd-order ODE.  After integrating once, we can write this as a system of two first-order ODEs:\n",
    "\n",
    "\\begin{align}\n",
    "    u'(\\xi) & = v(\\xi) \\\\\n",
    "    v'(\\xi) & = \\frac{1}{\\epsilon}\\left( \\alpha + cu - u^2/2 \\right).\n",
    "\\end{align}\n",
    "Here $\\alpha$ is a constant of integration.\n",
    "\n",
    "Below, we plot the phase plane for this sytem, with the equilibrium points indicated in black."
   ]
  },
  {
   "cell_type": "code",
   "execution_count": null,
   "id": "f6f4975c",
   "metadata": {},
   "outputs": [],
   "source": [
    "fig, axes = plt.subplots(1,1,figsize=(6,6))\n",
    "\n",
    "c = 1.0\n",
    "epsilon = 0.7\n",
    "alpha = 0.\n",
    "\n",
    "u = np.linspace(-2, 5., 50)\n",
    "v = np.linspace(-3, 3., 50)\n",
    " \n",
    "V, U = np.meshgrid(v, u)\n",
    "du = V\n",
    "dv = (alpha+U*(c-U/2))/epsilon\n",
    "\n",
    "axes.streamplot(V,U,dv,du,broken_streamlines=False,density=0.8)\n",
    "axes.set_xlabel('v'); axes.set_ylabel('u');\n",
    "axes.plot([0,0],[c+np.sqrt(c**2+2*alpha),c-np.sqrt(c**2+2*alpha)],'ok')\n",
    "plt.axis('image');"
   ]
  },
  {
   "cell_type": "code",
   "execution_count": null,
   "id": "c84aa6f3",
   "metadata": {},
   "outputs": [],
   "source": [
    "fig, axes = plt.subplots(1,2,figsize=(12,6))\n",
    "plt.close()\n",
    "\n",
    "def viscous_shock(c=1.0,epsilon=0.7,u0=1.4,xmax=10.):\n",
    "\n",
    "    axes[0].cla()\n",
    "    axes[1].cla()\n",
    "    u = np.linspace(-2, 5., 50)\n",
    "    v = np.linspace(-3, 3., 50)\n",
    "\n",
    "    V, U = np.meshgrid(v, u)\n",
    "    du = V\n",
    "    dv = (alpha+U*(c-U/2))/epsilon\n",
    "\n",
    "\n",
    "    stream = axes[0].streamplot(V,U,dv,du,broken_streamlines=False,density=0.8)\n",
    "    axes[0].set_xlabel('v'); axes[0].set_ylabel('u');\n",
    "    axes[0].plot([0,0],[c+np.sqrt(c**2+2*alpha),c-np.sqrt(c**2+2*alpha)],'ok')\n",
    "    axes[0].axis('image')\n",
    "    \n",
    "    def rhs(t,w):\n",
    "        u, v = w\n",
    "        return np.array([v,(alpha+u*(c-u/2))/epsilon])\n",
    "\n",
    "    w0 = np.array([u0,0.001])\n",
    "    t_eval = np.linspace(0,xmax,1000)\n",
    "    forwardsoln = scipy.integrate.solve_ivp(rhs,[0,xmax],w0,t_eval=t_eval,atol=1.e-12,rtol=1.e-12)\n",
    "    u = forwardsoln.y[0,:]\n",
    "    x = forwardsoln.t\n",
    "    axes[1].plot(x,u,'-r',lw=3)\n",
    "    axes[0].plot(np.diff(u)/np.diff(x),u[1:],'-r',lw=3)\n",
    "    axes[1].set_xlim(0,xmax)\n",
    "    axes[1].set_ylim(0,5)\n",
    "    fig.canvas.draw_idle()\n",
    "    plt.close()\n",
    "    return fig\n",
    "    \n",
    "interact(viscous_shock,u0=FloatSlider(min=-0.1,max=2.0,step=0.01,value=1.2));"
   ]
  },
  {
   "cell_type": "markdown",
   "id": "56de2309",
   "metadata": {},
   "source": [
    "In the visualization above, we also integrate along a trajectory in the phase plane and plot the result as a solution of the PDE.  You can adjust the parameters of the equation and the integrated trajectory.  Try to adjust them to obtain a soliton solution.  What other classes of solutions exist?"
   ]
  },
  {
   "cell_type": "code",
   "execution_count": null,
   "id": "57f60dac",
   "metadata": {},
   "outputs": [],
   "source": []
  }
 ],
 "metadata": {
  "kernelspec": {
   "display_name": "Python 3 (ipykernel)",
   "language": "python",
   "name": "python3"
  },
  "language_info": {
   "codemirror_mode": {
    "name": "ipython",
    "version": 3
   },
   "file_extension": ".py",
   "mimetype": "text/x-python",
   "name": "python",
   "nbconvert_exporter": "python",
   "pygments_lexer": "ipython3",
   "version": "3.10.4"
  }
 },
 "nbformat": 4,
 "nbformat_minor": 5
}
